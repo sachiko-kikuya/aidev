{
  "cells": [
    {
      "cell_type": "markdown",
      "metadata": {
        "id": "2kEtx2Y4Ywzg"
      },
      "source": [
        "# 課題4: プロ野球選手の年俸データのクラスタリング\n",
        "\n",
        "ここでは、k-means法を利用したクラスタリングの理解を深めて頂くための課題を用意しました。Lesson6で使用したプロ野球選手の推定年俸のデータを使い、クラスタリングを行ってください。なお、クラスタリングはデータを正規化したうえで行ないます。\n",
        "\n",
        "わからない場合は、ここまでのレッスン内容や各種ライブラリの公式ドキュメントを参照しましょう。"
      ]
    },
    {
      "cell_type": "markdown",
      "metadata": {
        "id": "7wZdJ7yCZr8g"
      },
      "source": [
        "## 1. ライブラリのimport"
      ]
    },
    {
      "cell_type": "code",
      "execution_count": null,
      "metadata": {
        "id": "juK8xWLIYtZ7"
      },
      "outputs": [],
      "source": [
        "# （変更しないでください）\n",
        "\n",
        "# 必要なライブラリのimport\n",
        "import numpy as np\n",
        "import matplotlib.pyplot as plt\n",
        "import seaborn as sns\n",
        "import pandas as pd\n",
        "\n",
        "# データの正規化　　scikit-learnの前処理モジュールからMinMaxScalerクラスをインポート（MinMaxScalerは最小値-最大値正規化を行うためのクラス）\n",
        "from sklearn.preprocessing import MinMaxScaler\n",
        "\n",
        "# k-means法\n",
        "from sklearn.cluster import KMeans\n",
        "\n",
        "# シルエットプロット\n",
        "from sklearn.metrics import silhouette_score, silhouette_samples\n",
        "\n",
        "# DataFrameですべての列を表示する設定\n",
        "pd.options.display.max_columns = None\n",
        "\n",
        "# seabornによる装飾を適用する\n",
        "sns.set_theme()"
      ]
    },
    {
      "cell_type": "markdown",
      "metadata": {
        "id": "9B48ZIWxaC_Q"
      },
      "source": [
        "## 2. データの読み込み\n",
        "\n",
        "CSVファイル *baseball_salary.csv* を読み込み、dataset_baseに格納します。"
      ]
    },
    {
      "cell_type": "code",
      "execution_count": 2,
      "metadata": {
        "id": "qIsF8nupYy_d"
      },
      "outputs": [],
      "source": [
        "# CSVファイルを読み込んでdataset_baseに格納する\n",
        "dataset_base = pd.read_csv(\"./baseball_salary.csv\")"
      ]
    },
    {
      "cell_type": "code",
      "execution_count": 4,
      "metadata": {
        "id": "p_sj8SkMalI9"
      },
      "outputs": [
        {
          "data": {
            "text/html": [
              "<div>\n",
              "<style scoped>\n",
              "    .dataframe tbody tr th:only-of-type {\n",
              "        vertical-align: middle;\n",
              "    }\n",
              "\n",
              "    .dataframe tbody tr th {\n",
              "        vertical-align: top;\n",
              "    }\n",
              "\n",
              "    .dataframe thead th {\n",
              "        text-align: right;\n",
              "    }\n",
              "</style>\n",
              "<table border=\"1\" class=\"dataframe\">\n",
              "  <thead>\n",
              "    <tr style=\"text-align: right;\">\n",
              "      <th></th>\n",
              "      <th>球団</th>\n",
              "      <th>推定年俸</th>\n",
              "      <th>守備</th>\n",
              "      <th>年数</th>\n",
              "      <th>年齢</th>\n",
              "      <th>身長</th>\n",
              "      <th>体重</th>\n",
              "      <th>血液型</th>\n",
              "      <th>投打</th>\n",
              "      <th>年</th>\n",
              "      <th>打率</th>\n",
              "      <th>試合</th>\n",
              "      <th>打席数</th>\n",
              "      <th>打数</th>\n",
              "      <th>安打</th>\n",
              "      <th>本塁打</th>\n",
              "      <th>打点</th>\n",
              "      <th>盗塁</th>\n",
              "      <th>四球</th>\n",
              "      <th>死球</th>\n",
              "      <th>三振</th>\n",
              "      <th>犠打</th>\n",
              "      <th>併殺打</th>\n",
              "      <th>出塁率</th>\n",
              "      <th>長打率</th>\n",
              "      <th>OPS</th>\n",
              "      <th>RC27</th>\n",
              "      <th>XR27</th>\n",
              "      <th>球団勝率</th>\n",
              "      <th>プレーオフ</th>\n",
              "      <th>球団平均得点</th>\n",
              "      <th>球団打率</th>\n",
              "    </tr>\n",
              "  </thead>\n",
              "  <tbody>\n",
              "    <tr>\n",
              "      <th>0</th>\n",
              "      <td>c</td>\n",
              "      <td>21000</td>\n",
              "      <td>外野手</td>\n",
              "      <td>11</td>\n",
              "      <td>29</td>\n",
              "      <td>177</td>\n",
              "      <td>90</td>\n",
              "      <td>AB型</td>\n",
              "      <td>右左</td>\n",
              "      <td>2017</td>\n",
              "      <td>0.308</td>\n",
              "      <td>143</td>\n",
              "      <td>651</td>\n",
              "      <td>556</td>\n",
              "      <td>171</td>\n",
              "      <td>23</td>\n",
              "      <td>92</td>\n",
              "      <td>13</td>\n",
              "      <td>83</td>\n",
              "      <td>4</td>\n",
              "      <td>113</td>\n",
              "      <td>2</td>\n",
              "      <td>6</td>\n",
              "      <td>0.398</td>\n",
              "      <td>0.505</td>\n",
              "      <td>0.903</td>\n",
              "      <td>7.70</td>\n",
              "      <td>7.52</td>\n",
              "      <td>0.633</td>\n",
              "      <td>2</td>\n",
              "      <td>5.15</td>\n",
              "      <td>0.273</td>\n",
              "    </tr>\n",
              "    <tr>\n",
              "      <th>1</th>\n",
              "      <td>c</td>\n",
              "      <td>19000</td>\n",
              "      <td>内野手</td>\n",
              "      <td>7</td>\n",
              "      <td>28</td>\n",
              "      <td>171</td>\n",
              "      <td>72</td>\n",
              "      <td>A型</td>\n",
              "      <td>右右</td>\n",
              "      <td>2017</td>\n",
              "      <td>0.271</td>\n",
              "      <td>138</td>\n",
              "      <td>629</td>\n",
              "      <td>565</td>\n",
              "      <td>153</td>\n",
              "      <td>14</td>\n",
              "      <td>56</td>\n",
              "      <td>8</td>\n",
              "      <td>32</td>\n",
              "      <td>1</td>\n",
              "      <td>107</td>\n",
              "      <td>30</td>\n",
              "      <td>9</td>\n",
              "      <td>0.311</td>\n",
              "      <td>0.405</td>\n",
              "      <td>0.716</td>\n",
              "      <td>4.10</td>\n",
              "      <td>4.01</td>\n",
              "      <td>0.633</td>\n",
              "      <td>2</td>\n",
              "      <td>5.15</td>\n",
              "      <td>0.273</td>\n",
              "    </tr>\n",
              "    <tr>\n",
              "      <th>2</th>\n",
              "      <td>c</td>\n",
              "      <td>14000</td>\n",
              "      <td>内野手</td>\n",
              "      <td>5</td>\n",
              "      <td>29</td>\n",
              "      <td>171</td>\n",
              "      <td>85</td>\n",
              "      <td>A型</td>\n",
              "      <td>右左</td>\n",
              "      <td>2017</td>\n",
              "      <td>0.290</td>\n",
              "      <td>143</td>\n",
              "      <td>679</td>\n",
              "      <td>565</td>\n",
              "      <td>164</td>\n",
              "      <td>8</td>\n",
              "      <td>60</td>\n",
              "      <td>35</td>\n",
              "      <td>89</td>\n",
              "      <td>15</td>\n",
              "      <td>120</td>\n",
              "      <td>6</td>\n",
              "      <td>5</td>\n",
              "      <td>0.398</td>\n",
              "      <td>0.407</td>\n",
              "      <td>0.805</td>\n",
              "      <td>6.41</td>\n",
              "      <td>6.26</td>\n",
              "      <td>0.633</td>\n",
              "      <td>2</td>\n",
              "      <td>5.15</td>\n",
              "      <td>0.273</td>\n",
              "    </tr>\n",
              "    <tr>\n",
              "      <th>3</th>\n",
              "      <td>c</td>\n",
              "      <td>11500</td>\n",
              "      <td>内野手</td>\n",
              "      <td>7</td>\n",
              "      <td>38</td>\n",
              "      <td>196</td>\n",
              "      <td>126</td>\n",
              "      <td>不明</td>\n",
              "      <td>右右</td>\n",
              "      <td>2017</td>\n",
              "      <td>0.265</td>\n",
              "      <td>116</td>\n",
              "      <td>405</td>\n",
              "      <td>344</td>\n",
              "      <td>91</td>\n",
              "      <td>27</td>\n",
              "      <td>78</td>\n",
              "      <td>0</td>\n",
              "      <td>50</td>\n",
              "      <td>8</td>\n",
              "      <td>111</td>\n",
              "      <td>0</td>\n",
              "      <td>8</td>\n",
              "      <td>0.368</td>\n",
              "      <td>0.532</td>\n",
              "      <td>0.900</td>\n",
              "      <td>6.80</td>\n",
              "      <td>6.90</td>\n",
              "      <td>0.633</td>\n",
              "      <td>2</td>\n",
              "      <td>5.15</td>\n",
              "      <td>0.273</td>\n",
              "    </tr>\n",
              "    <tr>\n",
              "      <th>4</th>\n",
              "      <td>c</td>\n",
              "      <td>11000</td>\n",
              "      <td>内野手</td>\n",
              "      <td>20</td>\n",
              "      <td>41</td>\n",
              "      <td>189</td>\n",
              "      <td>102</td>\n",
              "      <td>B型</td>\n",
              "      <td>右右</td>\n",
              "      <td>2017</td>\n",
              "      <td>0.292</td>\n",
              "      <td>100</td>\n",
              "      <td>288</td>\n",
              "      <td>243</td>\n",
              "      <td>71</td>\n",
              "      <td>9</td>\n",
              "      <td>48</td>\n",
              "      <td>2</td>\n",
              "      <td>40</td>\n",
              "      <td>1</td>\n",
              "      <td>56</td>\n",
              "      <td>0</td>\n",
              "      <td>7</td>\n",
              "      <td>0.389</td>\n",
              "      <td>0.461</td>\n",
              "      <td>0.850</td>\n",
              "      <td>6.55</td>\n",
              "      <td>6.54</td>\n",
              "      <td>0.633</td>\n",
              "      <td>2</td>\n",
              "      <td>5.15</td>\n",
              "      <td>0.273</td>\n",
              "    </tr>\n",
              "  </tbody>\n",
              "</table>\n",
              "</div>"
            ],
            "text/plain": [
              "  球団   推定年俸   守備  年数  年齢   身長   体重  血液型  投打     年     打率   試合  打席数   打数   安打  \\\n",
              "0  c  21000  外野手  11  29  177   90  AB型  右左  2017  0.308  143  651  556  171   \n",
              "1  c  19000  内野手   7  28  171   72   A型  右右  2017  0.271  138  629  565  153   \n",
              "2  c  14000  内野手   5  29  171   85   A型  右左  2017  0.290  143  679  565  164   \n",
              "3  c  11500  内野手   7  38  196  126   不明  右右  2017  0.265  116  405  344   91   \n",
              "4  c  11000  内野手  20  41  189  102   B型  右右  2017  0.292  100  288  243   71   \n",
              "\n",
              "   本塁打  打点  盗塁  四球  死球   三振  犠打  併殺打    出塁率    長打率    OPS  RC27  XR27   球団勝率  \\\n",
              "0   23  92  13  83   4  113   2    6  0.398  0.505  0.903  7.70  7.52  0.633   \n",
              "1   14  56   8  32   1  107  30    9  0.311  0.405  0.716  4.10  4.01  0.633   \n",
              "2    8  60  35  89  15  120   6    5  0.398  0.407  0.805  6.41  6.26  0.633   \n",
              "3   27  78   0  50   8  111   0    8  0.368  0.532  0.900  6.80  6.90  0.633   \n",
              "4    9  48   2  40   1   56   0    7  0.389  0.461  0.850  6.55  6.54  0.633   \n",
              "\n",
              "   プレーオフ  球団平均得点   球団打率  \n",
              "0      2    5.15  0.273  \n",
              "1      2    5.15  0.273  \n",
              "2      2    5.15  0.273  \n",
              "3      2    5.15  0.273  \n",
              "4      2    5.15  0.273  "
            ]
          },
          "execution_count": 4,
          "metadata": {},
          "output_type": "execute_result"
        }
      ],
      "source": [
        "# dataset_baseの最初の5行を表示\n",
        "dataset_base.head()"
      ]
    },
    {
      "cell_type": "code",
      "execution_count": 6,
      "metadata": {},
      "outputs": [
        {
          "data": {
            "text/plain": [
              "(241, 32)"
            ]
          },
          "execution_count": 6,
          "metadata": {},
          "output_type": "execute_result"
        }
      ],
      "source": [
        "# データの形状を確認\n",
        "dataset_base.shape"
      ]
    },
    {
      "cell_type": "code",
      "execution_count": 7,
      "metadata": {
        "id": "nQ32Ubeqalba"
      },
      "outputs": [
        {
          "data": {
            "text/html": [
              "<div>\n",
              "<style scoped>\n",
              "    .dataframe tbody tr th:only-of-type {\n",
              "        vertical-align: middle;\n",
              "    }\n",
              "\n",
              "    .dataframe tbody tr th {\n",
              "        vertical-align: top;\n",
              "    }\n",
              "\n",
              "    .dataframe thead th {\n",
              "        text-align: right;\n",
              "    }\n",
              "</style>\n",
              "<table border=\"1\" class=\"dataframe\">\n",
              "  <thead>\n",
              "    <tr style=\"text-align: right;\">\n",
              "      <th></th>\n",
              "      <th>batting</th>\n",
              "      <th>points</th>\n",
              "    </tr>\n",
              "  </thead>\n",
              "  <tbody>\n",
              "    <tr>\n",
              "      <th>0</th>\n",
              "      <td>0.308</td>\n",
              "      <td>92</td>\n",
              "    </tr>\n",
              "    <tr>\n",
              "      <th>1</th>\n",
              "      <td>0.271</td>\n",
              "      <td>56</td>\n",
              "    </tr>\n",
              "    <tr>\n",
              "      <th>2</th>\n",
              "      <td>0.290</td>\n",
              "      <td>60</td>\n",
              "    </tr>\n",
              "    <tr>\n",
              "      <th>3</th>\n",
              "      <td>0.265</td>\n",
              "      <td>78</td>\n",
              "    </tr>\n",
              "    <tr>\n",
              "      <th>4</th>\n",
              "      <td>0.292</td>\n",
              "      <td>48</td>\n",
              "    </tr>\n",
              "  </tbody>\n",
              "</table>\n",
              "</div>"
            ],
            "text/plain": [
              "   batting  points\n",
              "0    0.308      92\n",
              "1    0.271      56\n",
              "2    0.290      60\n",
              "3    0.265      78\n",
              "4    0.292      48"
            ]
          },
          "execution_count": 7,
          "metadata": {},
          "output_type": "execute_result"
        }
      ],
      "source": [
        "# dataset_baseから「打率、打点」列を抜き出してdatasetに格納する\n",
        "dataset = dataset_base[['打率', '打点']]\n",
        "\n",
        "# 列名を、打率は「batting」、打点は「points」にリネームする\n",
        "dataset = dataset.rename(columns={'打率': 'batting', '打点': 'points'})\n",
        "\n",
        "# datasetの先頭の5行を表示\n",
        "dataset.head()"
      ]
    },
    {
      "cell_type": "markdown",
      "metadata": {
        "id": "XFLVPV-GavN_"
      },
      "source": [
        "## 3. データの正規化\n",
        "\n",
        "クラスタリングは類似度（距離）に基づいて行なわれるため、データの範囲に差がある場合は正規化を行ないます。\n",
        "\n",
        "ここでは、Lesson5のデータの前処理で紹介した *Min-max normalization* を使ってみましょう。 `sklearn.preprocessing.MinMaxScaler()` を利用します。\n",
        "\n",
        "参考：https://scikit-learn.org/stable/modules/generated/sklearn.preprocessing.MinMaxScaler.html"
      ]
    },
    {
      "cell_type": "code",
      "execution_count": 8,
      "metadata": {
        "id": "tnwfd2rXavgi"
      },
      "outputs": [
        {
          "data": {
            "text/plain": [
              "array([[0.616     , 0.87619048],\n",
              "       [0.542     , 0.53333333],\n",
              "       [0.58      , 0.57142857],\n",
              "       [0.53      , 0.74285714],\n",
              "       [0.584     , 0.45714286],\n",
              "       [0.6       , 0.85714286],\n",
              "       [0.408     , 0.11428571],\n",
              "       [0.652     , 0.73333333],\n",
              "       [0.55      , 0.33333333],\n",
              "       [0.62      , 0.46666667],\n",
              "       [0.35      , 0.07619048],\n",
              "       [0.512     , 0.24761905],\n",
              "       [0.378     , 0.01904762],\n",
              "       [0.55      , 0.25714286],\n",
              "       [0.75      , 0.12380952],\n",
              "       [0.378     , 0.01904762],\n",
              "       [0.434     , 0.1047619 ],\n",
              "       [0.47      , 0.02857143],\n",
              "       [0.25      , 0.        ],\n",
              "       [0.8       , 0.        ],\n",
              "       [0.666     , 0.        ],\n",
              "       [0.5       , 0.01904762],\n",
              "       [0.58      , 0.59047619],\n",
              "       [0.586     , 0.39047619],\n",
              "       [0.526     , 0.75238095],\n",
              "       [0.456     , 0.04761905],\n",
              "       [0.618     , 0.21904762],\n",
              "       [0.568     , 0.36190476],\n",
              "       [0.5       , 0.22857143],\n",
              "       [0.482     , 0.58095238],\n",
              "       [0.412     , 0.31428571],\n",
              "       [0.474     , 0.36190476],\n",
              "       [0.42      , 0.19047619],\n",
              "       [0.452     , 0.23809524],\n",
              "       [0.522     , 0.08571429],\n",
              "       [0.39      , 0.04761905],\n",
              "       [0.154     , 0.        ],\n",
              "       [0.518     , 0.22857143],\n",
              "       [0.496     , 0.16190476],\n",
              "       [0.236     , 0.        ],\n",
              "       [0.26      , 0.00952381],\n",
              "       [0.334     , 0.00952381],\n",
              "       [0.        , 0.        ],\n",
              "       [0.556     , 0.        ],\n",
              "       [0.568     , 0.8952381 ],\n",
              "       [0.602     , 1.        ],\n",
              "       [0.486     , 0.57142857],\n",
              "       [0.538     , 0.4952381 ],\n",
              "       [0.646     , 0.59047619],\n",
              "       [0.524     , 0.47619048],\n",
              "       [0.492     , 0.1047619 ],\n",
              "       [0.428     , 0.4952381 ],\n",
              "       [0.452     , 0.00952381],\n",
              "       [0.466     , 0.1047619 ],\n",
              "       [0.402     , 0.19047619],\n",
              "       [0.38      , 0.02857143],\n",
              "       [0.496     , 0.11428571],\n",
              "       [0.316     , 0.00952381],\n",
              "       [0.286     , 0.        ],\n",
              "       [0.19      , 0.00952381],\n",
              "       [0.462     , 0.01904762],\n",
              "       [0.8       , 0.03809524],\n",
              "       [0.582     , 0.58095238],\n",
              "       [0.528     , 0.31428571],\n",
              "       [0.63      , 0.73333333],\n",
              "       [0.524     , 0.72380952],\n",
              "       [0.522     , 0.43809524],\n",
              "       [0.412     , 0.25714286],\n",
              "       [0.502     , 0.44761905],\n",
              "       [0.48      , 0.05714286],\n",
              "       [0.534     , 0.05714286],\n",
              "       [0.416     , 0.0952381 ],\n",
              "       [0.484     , 0.19047619],\n",
              "       [0.498     , 0.14285714],\n",
              "       [0.314     , 0.01904762],\n",
              "       [0.5       , 0.        ],\n",
              "       [0.364     , 0.06666667],\n",
              "       [0.7       , 0.07619048],\n",
              "       [0.546     , 0.        ],\n",
              "       [0.388     , 0.01904762],\n",
              "       [0.5       , 0.00952381],\n",
              "       [0.626     , 0.27619048],\n",
              "       [0.5       , 0.46666667],\n",
              "       [0.488     , 0.27619048],\n",
              "       [0.498     , 0.07619048],\n",
              "       [0.53      , 0.4       ],\n",
              "       [0.528     , 0.34285714],\n",
              "       [0.542     , 0.46666667],\n",
              "       [0.41      , 0.07619048],\n",
              "       [0.574     , 0.12380952],\n",
              "       [0.47      , 0.        ],\n",
              "       [0.442     , 0.16190476],\n",
              "       [0.182     , 0.00952381],\n",
              "       [0.466     , 0.0952381 ],\n",
              "       [0.554     , 0.17142857],\n",
              "       [0.454     , 0.06666667],\n",
              "       [0.434     , 0.1047619 ],\n",
              "       [0.45      , 0.1047619 ],\n",
              "       [0.384     , 0.03809524],\n",
              "       [0.536     , 0.01904762],\n",
              "       [0.4       , 0.        ],\n",
              "       [0.438     , 0.02857143],\n",
              "       [0.414     , 0.00952381],\n",
              "       [0.5       , 0.01904762],\n",
              "       [0.706     , 0.00952381],\n",
              "       [0.142     , 0.00952381],\n",
              "       [0.508     , 0.76190476],\n",
              "       [0.494     , 0.74285714],\n",
              "       [0.424     , 0.03809524],\n",
              "       [0.58      , 0.36190476],\n",
              "       [0.454     , 0.27619048],\n",
              "       [0.612     , 0.3047619 ],\n",
              "       [0.486     , 0.32380952],\n",
              "       [0.468     , 0.1047619 ],\n",
              "       [0.414     , 0.23809524],\n",
              "       [0.408     , 0.04761905],\n",
              "       [0.416     , 0.07619048],\n",
              "       [0.514     , 0.11428571],\n",
              "       [0.274     , 0.06666667],\n",
              "       [0.434     , 0.        ],\n",
              "       [0.484     , 0.12380952],\n",
              "       [0.418     , 0.06666667],\n",
              "       [0.396     , 0.06666667],\n",
              "       [0.324     , 0.15238095],\n",
              "       [0.478     , 0.04761905],\n",
              "       [0.334     , 0.00952381],\n",
              "       [0.5       , 0.00952381],\n",
              "       [0.594     , 0.47619048],\n",
              "       [0.528     , 0.67619048],\n",
              "       [0.524     , 0.98095238],\n",
              "       [0.62      , 0.94285714],\n",
              "       [0.528     , 0.60952381],\n",
              "       [0.432     , 0.06666667],\n",
              "       [0.426     , 0.07619048],\n",
              "       [0.54      , 0.4       ],\n",
              "       [0.558     , 0.21904762],\n",
              "       [0.528     , 0.12380952],\n",
              "       [0.464     , 0.17142857],\n",
              "       [0.352     , 0.01904762],\n",
              "       [0.52      , 0.48571429],\n",
              "       [0.412     , 0.19047619],\n",
              "       [0.366     , 0.15238095],\n",
              "       [0.456     , 0.07619048],\n",
              "       [0.358     , 0.04761905],\n",
              "       [0.666     , 0.        ],\n",
              "       [0.308     , 0.01904762],\n",
              "       [0.166     , 0.00952381],\n",
              "       [1.        , 0.        ],\n",
              "       [0.482     , 0.5047619 ],\n",
              "       [0.434     , 0.75238095],\n",
              "       [0.644     , 0.84761905],\n",
              "       [0.582     , 0.94285714],\n",
              "       [0.504     , 0.43809524],\n",
              "       [0.502     , 0.28571429],\n",
              "       [0.544     , 0.32380952],\n",
              "       [0.54      , 0.54285714],\n",
              "       [0.678     , 0.17142857],\n",
              "       [0.596     , 0.58095238],\n",
              "       [0.516     , 0.45714286],\n",
              "       [0.458     , 0.08571429],\n",
              "       [0.402     , 0.12380952],\n",
              "       [0.876     , 0.03809524],\n",
              "       [0.47      , 0.03809524],\n",
              "       [0.56      , 0.03809524],\n",
              "       [0.462     , 0.03809524],\n",
              "       [0.562     , 0.71428571],\n",
              "       [0.542     , 0.78095238],\n",
              "       [0.5       , 0.0952381 ],\n",
              "       [0.504     , 0.31428571],\n",
              "       [0.586     , 0.57142857],\n",
              "       [0.398     , 0.26666667],\n",
              "       [0.592     , 0.44761905],\n",
              "       [0.474     , 0.61904762],\n",
              "       [0.53      , 0.44761905],\n",
              "       [0.52      , 0.3047619 ],\n",
              "       [0.5       , 0.2       ],\n",
              "       [0.2       , 0.00952381],\n",
              "       [0.338     , 0.03809524],\n",
              "       [0.422     , 0.06666667],\n",
              "       [0.6       , 0.1047619 ],\n",
              "       [0.222     , 0.01904762],\n",
              "       [0.486     , 0.08571429],\n",
              "       [0.        , 0.        ],\n",
              "       [1.        , 0.        ],\n",
              "       [0.57      , 0.46666667],\n",
              "       [0.548     , 0.62857143],\n",
              "       [0.532     , 0.64761905],\n",
              "       [0.58      , 0.47619048],\n",
              "       [0.406     , 0.24761905],\n",
              "       [0.554     , 0.44761905],\n",
              "       [0.622     , 0.36190476],\n",
              "       [0.468     , 0.2       ],\n",
              "       [0.492     , 0.2       ],\n",
              "       [0.426     , 0.18095238],\n",
              "       [0.404     , 0.17142857],\n",
              "       [0.54      , 0.12380952],\n",
              "       [0.59      , 0.13333333],\n",
              "       [0.286     , 0.00952381],\n",
              "       [0.222     , 0.01904762],\n",
              "       [0.236     , 0.01904762],\n",
              "       [0.364     , 0.        ],\n",
              "       [0.458     , 0.85714286],\n",
              "       [0.432     , 0.63809524],\n",
              "       [0.592     , 0.41904762],\n",
              "       [0.416     , 0.12380952],\n",
              "       [0.504     , 0.17142857],\n",
              "       [0.826     , 0.27619048],\n",
              "       [0.516     , 0.43809524],\n",
              "       [0.41      , 0.0952381 ],\n",
              "       [0.548     , 0.31428571],\n",
              "       [0.294     , 0.02857143],\n",
              "       [0.552     , 0.00952381],\n",
              "       [0.41      , 0.22857143],\n",
              "       [0.478     , 0.19047619],\n",
              "       [0.396     , 0.0952381 ],\n",
              "       [0.334     , 0.02857143],\n",
              "       [0.266     , 0.01904762],\n",
              "       [0.342     , 0.05714286],\n",
              "       [0.286     , 0.        ],\n",
              "       [0.364     , 0.        ],\n",
              "       [0.5       , 0.00952381],\n",
              "       [0.538     , 0.41904762],\n",
              "       [0.52      , 0.4952381 ],\n",
              "       [0.496     , 0.34285714],\n",
              "       [0.406     , 0.2       ],\n",
              "       [0.528     , 0.22857143],\n",
              "       [0.55      , 0.3047619 ],\n",
              "       [0.448     , 0.17142857],\n",
              "       [0.532     , 0.25714286],\n",
              "       [0.44      , 0.08571429],\n",
              "       [0.38      , 0.12380952],\n",
              "       [0.484     , 0.18095238],\n",
              "       [0.346     , 0.03809524],\n",
              "       [0.34      , 0.05714286],\n",
              "       [0.46      , 0.1047619 ],\n",
              "       [0.352     , 0.02857143],\n",
              "       [0.342     , 0.00952381],\n",
              "       [0.412     , 0.21904762],\n",
              "       [0.39      , 0.01904762],\n",
              "       [0.476     , 0.        ],\n",
              "       [0.308     , 0.        ]])"
            ]
          },
          "execution_count": 8,
          "metadata": {},
          "output_type": "execute_result"
        }
      ],
      "source": [
        "# MinMaxScalerで正規化を実施し、その結果を変数tempに格納する\n",
        "\n",
        "# 上部でscikit-learnの前処理モジュールからMinMaxScalerクラスをインポート済みだが覚書として再度記載\n",
        "from sklearn.preprocessing import MinMaxScaler \n",
        "\n",
        "# スケーラーのインスタンスを作成\n",
        "ms = MinMaxScaler()  \n",
        "\n",
        "temp = ms.fit_transform(dataset)\n",
        "temp"
      ]
    },
    {
      "cell_type": "code",
      "execution_count": 13,
      "metadata": {
        "id": "7VNjJBZ1a_q_"
      },
      "outputs": [
        {
          "data": {
            "text/html": [
              "<div>\n",
              "<style scoped>\n",
              "    .dataframe tbody tr th:only-of-type {\n",
              "        vertical-align: middle;\n",
              "    }\n",
              "\n",
              "    .dataframe tbody tr th {\n",
              "        vertical-align: top;\n",
              "    }\n",
              "\n",
              "    .dataframe thead th {\n",
              "        text-align: right;\n",
              "    }\n",
              "</style>\n",
              "<table border=\"1\" class=\"dataframe\">\n",
              "  <thead>\n",
              "    <tr style=\"text-align: right;\">\n",
              "      <th></th>\n",
              "      <th>batting</th>\n",
              "      <th>points</th>\n",
              "    </tr>\n",
              "  </thead>\n",
              "  <tbody>\n",
              "    <tr>\n",
              "      <th>0</th>\n",
              "      <td>0.308</td>\n",
              "      <td>92</td>\n",
              "    </tr>\n",
              "    <tr>\n",
              "      <th>1</th>\n",
              "      <td>0.271</td>\n",
              "      <td>56</td>\n",
              "    </tr>\n",
              "    <tr>\n",
              "      <th>2</th>\n",
              "      <td>0.290</td>\n",
              "      <td>60</td>\n",
              "    </tr>\n",
              "    <tr>\n",
              "      <th>3</th>\n",
              "      <td>0.265</td>\n",
              "      <td>78</td>\n",
              "    </tr>\n",
              "    <tr>\n",
              "      <th>4</th>\n",
              "      <td>0.292</td>\n",
              "      <td>48</td>\n",
              "    </tr>\n",
              "  </tbody>\n",
              "</table>\n",
              "</div>"
            ],
            "text/plain": [
              "   batting  points\n",
              "0    0.308      92\n",
              "1    0.271      56\n",
              "2    0.290      60\n",
              "3    0.265      78\n",
              "4    0.292      48"
            ]
          },
          "execution_count": 13,
          "metadata": {},
          "output_type": "execute_result"
        }
      ],
      "source": [
        "dataset.head()\n",
        "\n",
        "# 正規化はデータの形（分布）は保持しながら、スケール（範囲）を統一する処理\n",
        "# dataset.head()は元のデータセットを表示しており、正規化されたデータは別の変数（temp）に格納されている"
      ]
    },
    {
      "cell_type": "code",
      "execution_count": 14,
      "metadata": {},
      "outputs": [
        {
          "data": {
            "text/plain": [
              "array([[0.616     , 0.87619048],\n",
              "       [0.542     , 0.53333333],\n",
              "       [0.58      , 0.57142857],\n",
              "       [0.53      , 0.74285714],\n",
              "       [0.584     , 0.45714286]])"
            ]
          },
          "execution_count": 14,
          "metadata": {},
          "output_type": "execute_result"
        }
      ],
      "source": [
        "# 正規化後のデータの先頭の5行を表示\n",
        "temp[:5] "
      ]
    },
    {
      "cell_type": "code",
      "execution_count": 15,
      "metadata": {
        "id": "17H1z4EebEnv"
      },
      "outputs": [],
      "source": [
        "# tempの0列目を「batting_scaled」、1列目を「points_scaled」という列名にして、datasetへ列として追加\n",
        "dataset['batting_scaled'] = temp[:, 0]    # 新しい列「batting_scaled」を追加\n",
        "dataset['points_scaled'] = temp[:, 1]     # 新しい列「points_scaled」を追加"
      ]
    },
    {
      "cell_type": "code",
      "execution_count": null,
      "metadata": {
        "id": "3UuiQ8KEbSU5"
      },
      "outputs": [
        {
          "data": {
            "text/html": [
              "<div>\n",
              "<style scoped>\n",
              "    .dataframe tbody tr th:only-of-type {\n",
              "        vertical-align: middle;\n",
              "    }\n",
              "\n",
              "    .dataframe tbody tr th {\n",
              "        vertical-align: top;\n",
              "    }\n",
              "\n",
              "    .dataframe thead th {\n",
              "        text-align: right;\n",
              "    }\n",
              "</style>\n",
              "<table border=\"1\" class=\"dataframe\">\n",
              "  <thead>\n",
              "    <tr style=\"text-align: right;\">\n",
              "      <th></th>\n",
              "      <th>batting</th>\n",
              "      <th>points</th>\n",
              "      <th>batting_scaled</th>\n",
              "      <th>points_scaled</th>\n",
              "    </tr>\n",
              "  </thead>\n",
              "  <tbody>\n",
              "    <tr>\n",
              "      <th>0</th>\n",
              "      <td>0.308</td>\n",
              "      <td>92</td>\n",
              "      <td>0.616</td>\n",
              "      <td>0.876190</td>\n",
              "    </tr>\n",
              "    <tr>\n",
              "      <th>1</th>\n",
              "      <td>0.271</td>\n",
              "      <td>56</td>\n",
              "      <td>0.542</td>\n",
              "      <td>0.533333</td>\n",
              "    </tr>\n",
              "    <tr>\n",
              "      <th>2</th>\n",
              "      <td>0.290</td>\n",
              "      <td>60</td>\n",
              "      <td>0.580</td>\n",
              "      <td>0.571429</td>\n",
              "    </tr>\n",
              "    <tr>\n",
              "      <th>3</th>\n",
              "      <td>0.265</td>\n",
              "      <td>78</td>\n",
              "      <td>0.530</td>\n",
              "      <td>0.742857</td>\n",
              "    </tr>\n",
              "    <tr>\n",
              "      <th>4</th>\n",
              "      <td>0.292</td>\n",
              "      <td>48</td>\n",
              "      <td>0.584</td>\n",
              "      <td>0.457143</td>\n",
              "    </tr>\n",
              "  </tbody>\n",
              "</table>\n",
              "</div>"
            ],
            "text/plain": [
              "   batting  points  batting_scaled  points_scaled\n",
              "0    0.308      92           0.616       0.876190\n",
              "1    0.271      56           0.542       0.533333\n",
              "2    0.290      60           0.580       0.571429\n",
              "3    0.265      78           0.530       0.742857\n",
              "4    0.292      48           0.584       0.457143"
            ]
          },
          "execution_count": 16,
          "metadata": {},
          "output_type": "execute_result"
        }
      ],
      "source": [
        "# 改めてdatasetの先頭の5行を表示\n",
        "dataset.head()\n",
        "\n",
        "# 正規化値 = (元の値 - 最小値) / (最大値 - 最小値)"
      ]
    },
    {
      "cell_type": "markdown",
      "metadata": {
        "id": "SzZ6MSeIbZTq"
      },
      "source": [
        "## 4. データの可視化"
      ]
    },
    {
      "cell_type": "code",
      "execution_count": 17,
      "metadata": {
        "id": "nbNS1bEebYqa"
      },
      "outputs": [
        {
          "data": {
            "text/plain": [
              "<Axes: xlabel='batting_scaled', ylabel='points_scaled'>"
            ]
          },
          "execution_count": 17,
          "metadata": {},
          "output_type": "execute_result"
        },
        {
          "data": {
            "image/png": "[encoded data removed]",
            "text/plain": [
              "<Figure size 640x480 with 1 Axes>"
            ]
          },
          "metadata": {},
          "output_type": "display_data"
        }
      ],
      "source": [
        "# 正規化後の打率と打点の散布図を描画する\n",
        "dataset.plot(kind='scatter', x='batting_scaled', y='points_scaled')"
      ]
    },
    {
      "cell_type": "markdown",
      "metadata": {
        "id": "rgPv6tmgeLvr"
      },
      "source": [
        "## 5. クラスター数の決定\n",
        "\n",
        "エルボーメソッドとシルエットプロットを使用してクラスター数を決定しましょう"
      ]
    },
    {
      "cell_type": "markdown",
      "metadata": {
        "id": "tVGiH6FseO3Q"
      },
      "source": [
        "### クラスタリングを行なうデータの抽出"
      ]
    },
    {
      "cell_type": "code",
      "execution_count": 18,
      "metadata": {
        "id": "9simaUlUeMsL"
      },
      "outputs": [
        {
          "name": "stdout",
          "output_type": "stream",
          "text": [
            "X= (241, 2)\n"
          ]
        }
      ],
      "source": [
        "# datasetからbatting_scaledとpoints_scaledを取り出して、numpy配列に変換してXに格納する\n",
        "X = dataset[['batting_scaled', 'points_scaled']].values\n",
        "\n",
        "# X = np.array(dataset[['batting_scaled', 'points_scaled']])　この書き方でも同義（.valuesの方が効率的。.valuesはpandas特有の書き方）\n",
        "\n",
        "# Xの形状を確認\n",
        "print(\"X=\", X.shape)"
      ]
    },
    {
      "cell_type": "markdown",
      "metadata": {
        "id": "V0WAt4jJecWl"
      },
      "source": [
        "### エルボーメソッド"
      ]
    },
    {
      "cell_type": "code",
      "execution_count": 21,
      "metadata": {
        "id": "BN41wtsMebRt"
      },
      "outputs": [],
      "source": [
        "# 最大クラスター数を10として、クラスター数1から10までのWCSS値を算出（変更しないでください）\n",
        "wcss = []\n",
        "c_list = np.arange(1, 11)"
      ]
    },
    {
      "cell_type": "code",
      "execution_count": 29,
      "metadata": {
        "id": "EImsjeWierQC"
      },
      "outputs": [],
      "source": [
        "# クラスタ数の算出\n",
        "wcss = [] \n",
        "for c in c_list:\n",
        "    # クラスタ数を c で指定\n",
        "    kmeans_model = KMeans(n_clusters=c, init='k-means++', n_init=10)\n",
        "    kmeans_model.fit(X)\n",
        "    # inertia_プロパティに、WCSSが格納されている\n",
        "    wcss.append(kmeans_model.inertia_)"
      ]
    },
    {
      "cell_type": "code",
      "execution_count": 30,
      "metadata": {
        "id": "x-JaKUXre025"
      },
      "outputs": [
        {
          "data": {
            "text/plain": [
              "[19.166235457325392,\n",
              " 7.410516705251341,\n",
              " 5.190355436622669,\n",
              " 3.6886547855136658,\n",
              " 2.6084994718604975,\n",
              " 1.9263829763388607,\n",
              " 1.6628252900425309,\n",
              " 1.4208224123227744,\n",
              " 1.22893174178945,\n",
              " 1.1049306085709718]"
            ]
          },
          "execution_count": 30,
          "metadata": {},
          "output_type": "execute_result"
        }
      ],
      "source": [
        "# WCSSの表示（変更しないでください）\n",
        "wcss"
      ]
    },
    {
      "cell_type": "code",
      "execution_count": 31,
      "metadata": {
        "id": "IQ5MGM6be8zQ"
      },
      "outputs": [
        {
          "data": {
            "text/plain": [
              "<Axes: >"
            ]
          },
          "execution_count": 31,
          "metadata": {},
          "output_type": "execute_result"
        },
        {
          "data": {
            "image/png": "[encoded data removed]",
            "text/plain": [
              "<Figure size 640x480 with 1 Axes>"
            ]
          },
          "metadata": {},
          "output_type": "display_data"
        }
      ],
      "source": [
        "# エルボーメソッドのグラフの表示\n",
        "sns.lineplot(x=c_list, y=wcss)"
      ]
    },
    {
      "cell_type": "markdown",
      "metadata": {
        "id": "xqGHVBvrfJs8"
      },
      "source": [
        "### シルエットプロット"
      ]
    },
    {
      "cell_type": "code",
      "execution_count": 32,
      "metadata": {
        "id": "0CxGvARkfJRC"
      },
      "outputs": [],
      "source": [
        "# クラスタ数を6に指定（変更しないでください）\n",
        "cluster_no = 6"
      ]
    },
    {
      "cell_type": "code",
      "execution_count": 33,
      "metadata": {
        "id": "g7urFyVkfNm0"
      },
      "outputs": [],
      "source": [
        "# クラスタリングのモデルを作成し、学習して、クラスタ番号を取得\n",
        "kmeans_model = KMeans(n_clusters=cluster_no, init='k-means++', n_init=10)\n",
        "Y_pred = kmeans_model.fit_predict(X)"
      ]
    },
    {
      "cell_type": "code",
      "execution_count": 35,
      "metadata": {
        "id": "yAyhBx_yupbC"
      },
      "outputs": [],
      "source": [
        "# シルエットスコアの平均値\n",
        "s_average = silhouette_score(X, Y_pred)\n",
        "\n",
        "# 各データのシルエットスコア\n",
        "s_score = silhouette_samples(X, Y_pred, metric='euclidean')"
      ]
    },
    {
      "cell_type": "code",
      "execution_count": 36,
      "metadata": {
        "id": "pPEMpbZDuxCS"
      },
      "outputs": [
        {
          "data": {
            "text/plain": [
              "[<matplotlib.axis.XTick at 0x29f30870d70>,\n",
              " <matplotlib.axis.XTick at 0x29f2c2a4d70>,\n",
              " <matplotlib.axis.XTick at 0x29f308712b0>,\n",
              " <matplotlib.axis.XTick at 0x29f308afbf0>,\n",
              " <matplotlib.axis.XTick at 0x29f308c4650>,\n",
              " <matplotlib.axis.XTick at 0x29f308aefc0>,\n",
              " <matplotlib.axis.XTick at 0x29f308c5430>]"
            ]
          },
          "execution_count": 36,
          "metadata": {},
          "output_type": "execute_result"
        },
        {
          "data": {
            "image/png": "[encoded data removed]",
            "text/plain": [
              "<Figure size 640x480 with 1 Axes>"
            ]
          },
          "metadata": {},
          "output_type": "display_data"
        }
      ],
      "source": [
        "# シルエットプロットを描画\n",
        "fig = plt.figure()\n",
        "ax1 = fig.add_subplot(1, 1, 1)\n",
        "y_lower = 0\n",
        "\n",
        "for i in range(cluster_no):\n",
        "    # Aggregate the silhouette scores for samples belonging to\n",
        "    # cluster i, and sort them\n",
        "    ith_cluster_silhouette_values = s_score[Y_pred == i]\n",
        "    ith_cluster_silhouette_values.sort()\n",
        "\n",
        "    size_cluster_i = ith_cluster_silhouette_values.shape[0]\n",
        "    y_upper = y_lower + size_cluster_i\n",
        "\n",
        "    #color = cm.nipy_spectral(float(i) / n_clusters)\n",
        "    ax1.fill_betweenx(np.arange(y_lower, y_upper),\n",
        "                      0, ith_cluster_silhouette_values)\n",
        "\n",
        "    # Label the silhouette plots with their cluster numbers at the middle\n",
        "    ax1.text(-0.05, y_lower + 0.5 * size_cluster_i, str(i))\n",
        "\n",
        "    # Compute the new y_lower for next plot\n",
        "    y_lower = y_upper + 10  # 10 for the space between silhouette plots\n",
        "\n",
        "ax1.set_title(\"The silhouette plot for the various clusters.\")\n",
        "ax1.set_xlabel(\"The silhouette coefficient values\")\n",
        "ax1.set_ylabel(\"Cluster label\")\n",
        "\n",
        "# The vertical line for average silhouette score of all the values\n",
        "ax1.axvline(x=s_average, color=\"red\", linestyle=\"--\")\n",
        "\n",
        "ax1.set_yticks([])  # Clear the yaxis labels / ticks\n",
        "ax1.set_xticks([-0.1, 0, 0.2, 0.4, 0.6, 0.8, 1])"
      ]
    },
    {
      "cell_type": "markdown",
      "metadata": {
        "id": "W7xBUAy5vJcf"
      },
      "source": [
        "## 6. 結果の確認\n",
        "\n",
        "上記の結果をもとに、クラスタ数6で再度クラスタリングを実行し、分類ごとに色を分けて散布図にプロットしましょう。"
      ]
    },
    {
      "cell_type": "code",
      "execution_count": 38,
      "metadata": {
        "id": "iqKt5ni6vE99"
      },
      "outputs": [],
      "source": [
        "# クラスタ数を6に指定（変更しないでください）\n",
        "cluster_no = 6\n",
        "\n",
        "# クラスタリングのモデルを作成し、学習して、クラスタ番号を取得\n",
        "kmeans_model = KMeans(n_clusters=cluster_no, init='k-means++', n_init=10)\n",
        "Y_pred = kmeans_model.fit_predict(X)"
      ]
    },
    {
      "cell_type": "code",
      "execution_count": 44,
      "metadata": {
        "id": "cY7pOOjSvIAp"
      },
      "outputs": [
        {
          "data": {
            "image/png": "[encoded data removed]",
            "text/plain": [
              "<Figure size 563.5x500 with 1 Axes>"
            ]
          },
          "metadata": {},
          "output_type": "display_data"
        }
      ],
      "source": [
        "# df_clusteredデータフレームを作成  ※seabornのlmplot()は、列名でデータにアクセスするため、pandas DataFrameが必要\n",
        "df_clustered = pd.DataFrame({\n",
        "    'batting_scaled': X[:, 0],\n",
        "    'points_scaled': X[:, 1],\n",
        "    'cluster': Y_pred\n",
        "})\n",
        "\n",
        "# 'batting_scaled': X[:, 0]　X配列の1列目（打撃成績）を'batting_scaled'列に\n",
        "# 'points_scaled': X[:, 1]　　X配列の2列目（得点成績）を'points_scaled'列に\n",
        "# 'cluster': Y_pred　　クラスタ番号を'cluster'列に\n",
        "\n",
        "# k-means法によるクラスタリングの結果を描画\n",
        "ax = sns.lmplot(x='batting_scaled', y='points_scaled', data=df_clustered, hue='cluster', fit_reg=False)\n",
        "ax.set(title='Baseball Data Clustering (K-means, k=6)')\n",
        "plt.show()"
      ]
    }
  ],
  "metadata": {
    "colab": {
      "provenance": []
    },
    "kernelspec": {
      "display_name": ".venv",
      "language": "python",
      "name": "python3"
    },
    "language_info": {
      "codemirror_mode": {
        "name": "ipython",
        "version": 3
      },
      "file_extension": ".py",
      "mimetype": "text/x-python",
      "name": "python",
      "nbconvert_exporter": "python",
      "pygments_lexer": "ipython3",
      "version": "3.12.10"
    }
  },
  "nbformat": 4,
  "nbformat_minor": 0
}
